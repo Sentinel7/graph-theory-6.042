{
 "cells": [
  {
   "cell_type": "code",
   "execution_count": 753,
   "metadata": {},
   "outputs": [],
   "source": [
    "import random\n",
    "from itertools import islice"
   ]
  },
  {
   "cell_type": "code",
   "execution_count": 754,
   "metadata": {},
   "outputs": [],
   "source": [
    "def divide(lst, split_size, min_size=2):\n",
    "    it = iter(lst)\n",
    "    size = len(lst)\n",
    "    for i in range(split_size - 1,0,-1):\n",
    "        s = random.randint(min_size, size -  min_size * i)\n",
    "        yield list(islice(it,0,s))\n",
    "        size -= s\n",
    "    yield list(it)"
   ]
  },
  {
   "cell_type": "code",
   "execution_count": 755,
   "metadata": {},
   "outputs": [],
   "source": [
    "def printDict(d):\n",
    "    for x in d:\n",
    "        print(x, end=\":  \")\n",
    "        for y in d[x]:\n",
    "            print(y, '', end = '')\n",
    "        print()\n",
    "    print()"
   ]
  },
  {
   "cell_type": "code",
   "execution_count": 756,
   "metadata": {},
   "outputs": [
    {
     "name": "stdout",
     "output_type": "stream",
     "text": [
      "A slots: [0, 0, 0]\n",
      "B slots: [0, 0, 0, 0, 0]\n",
      "C slots: [0, 0]\n",
      "D slots: [0, 0, 0]\n",
      "E slots: [0, 0, 0]\n",
      "F slots: [0, 0]\n",
      "G slots: [0, 0]\n",
      "\n",
      "Student Preferences\n",
      "1:  G F D E A B C \n",
      "2:  F G C B D A E \n",
      "3:  D A G F E C B \n",
      "4:  B G E D A F C \n",
      "5:  E G C A F D B \n",
      "6:  C D E F A G B \n",
      "7:  B G D A E F C \n",
      "8:  F A E G D B C \n",
      "9:  B E A D C G F \n",
      "10:  C F B A D G E \n",
      "11:  C E A F D G B \n",
      "12:  F G B C E A D \n",
      "13:  G C F B A E D \n",
      "14:  B E G A C D F \n",
      "15:  E A G C D B F \n",
      "16:  D B C G E A F \n",
      "17:  D F E G C A B \n",
      "18:  A F G E D B C \n",
      "19:  F B D G A E C \n",
      "20:  C E B D F A G \n",
      "\n",
      "College Preferences\n",
      "A:  11 7 17 8 6 4 12 10 13 14 2 3 9 19 20 18 15 5 1 16 \n",
      "B:  7 15 10 11 14 12 17 16 19 2 8 20 9 13 4 1 5 3 6 18 \n",
      "C:  3 4 12 6 7 1 20 18 5 11 9 10 13 17 19 2 16 15 8 14 \n",
      "D:  10 4 12 18 1 17 16 15 5 2 6 9 20 13 3 11 19 14 8 7 \n",
      "E:  17 15 20 8 14 19 4 6 11 7 10 16 12 2 5 3 13 1 18 9 \n",
      "F:  7 20 14 17 4 19 12 2 18 5 6 8 13 9 1 3 16 10 11 15 \n",
      "G:  2 4 11 10 14 13 7 6 17 16 18 9 8 3 5 1 12 15 19 20 \n",
      "\n"
     ]
    }
   ],
   "source": [
    "# Initialize nodes for N students and M colleges\n",
    "N = 20\n",
    "M = 7\n",
    "students = list(range(1, N+1))\n",
    "colleges = list(map(chr, range(ord('A'), ord('A') + M)))\n",
    "\n",
    "\n",
    "# Allocate a random number of empty slots to each college\n",
    "college_slots = {}\n",
    "split = list(divide([0]*N, M))\n",
    "for c in range(M):\n",
    "    college_slots[colleges[c]] = split[c]\n",
    "    print(colleges[c], 'slots:', split[c])\n",
    "print()\n",
    "\n",
    "\n",
    "# Create random preference lists for students and colleges\n",
    "s_pref = {}\n",
    "c_pref = {}\n",
    "\n",
    "for i in range(N):\n",
    "    s_list = colleges.copy()\n",
    "    random.shuffle(s_list)\n",
    "    s_pref[i+1] = s_list\n",
    "\n",
    "for i in range(M):\n",
    "    c_list = students.copy()\n",
    "    random.shuffle(c_list)\n",
    "    c_pref[colleges[i]] = c_list\n",
    "    \n",
    "print(\"Student Preferences\")\n",
    "printDict(s_pref)\n",
    "print(\"College Preferences\")\n",
    "printDict(c_pref)"
   ]
  },
  {
   "cell_type": "code",
   "execution_count": 757,
   "metadata": {},
   "outputs": [],
   "source": [
    "def allMatched(balconies):\n",
    "    for i in balconies:\n",
    "        if (len(balconies[i]) != len(college_slots[i])):\n",
    "            return False\n",
    "    return True"
   ]
  },
  {
   "cell_type": "code",
   "execution_count": 758,
   "metadata": {},
   "outputs": [],
   "source": [
    "def fillBalconies(balconies):\n",
    "    for s in s_pref:\n",
    "        if (s not in balconies[s_pref[s][0]]):\n",
    "            s_copy = s\n",
    "            balconies[s_pref[s][0]].append(s_copy)"
   ]
  },
  {
   "cell_type": "code",
   "execution_count": 759,
   "metadata": {},
   "outputs": [],
   "source": [
    "def findFavorites(college, balconies):\n",
    "    if (len(balconies[college]) <= len(college_slots[college])):\n",
    "        return balconies[college]\n",
    "    else:\n",
    "        favorites = []\n",
    "        n = len(college_slots[college])\n",
    "        for s in c_pref[college]:\n",
    "            if (n <= 0):\n",
    "                break\n",
    "            if (s in balconies[college]):\n",
    "                favorites.append(s)\n",
    "                n -= 1\n",
    "        return favorites"
   ]
  },
  {
   "cell_type": "code",
   "execution_count": 760,
   "metadata": {},
   "outputs": [],
   "source": [
    "def createBalconyDict():\n",
    "    balconies = {}\n",
    "    for i in range(M):\n",
    "        balconies[colleges[i]] = []\n",
    "    return balconies"
   ]
  },
  {
   "cell_type": "code",
   "execution_count": 761,
   "metadata": {},
   "outputs": [
    {
     "name": "stdout",
     "output_type": "stream",
     "text": [
      "A:  8 18 3 \n",
      "B:  4 7 9 10 14 \n",
      "C:  20 6 \n",
      "D:  16 17 1 \n",
      "E:  11 5 15 \n",
      "F:  19 12 \n",
      "G:  2 13 \n",
      "\n"
     ]
    }
   ],
   "source": [
    "balconies = createBalconyDict()\n",
    "\n",
    "while True:\n",
    "    # Termination condition\n",
    "    if (allMatched(balconies) == True):\n",
    "        break\n",
    "    \n",
    "    # Students visit their favorite colleges\n",
    "    fillBalconies(balconies)\n",
    "    \n",
    "    # Colleges choose their favorite n students that visited them, and reject the others\n",
    "    rejected = []\n",
    "    for c in balconies:\n",
    "        c_fav = findFavorites(c, balconies)\n",
    "        \n",
    "        for student in balconies[c]:\n",
    "            if (student not in c_fav):\n",
    "                rejected.append(student)\n",
    "        balconies[c] = list(set(balconies[c]) - set(rejected))\n",
    "    \n",
    "    # Students who got rejected remove that college from their list\n",
    "    for s in rejected:\n",
    "        s_pref[s].pop(0)\n",
    "    \n",
    "printDict(balconies)"
   ]
  }
 ],
 "metadata": {
  "kernelspec": {
   "display_name": "Python 3",
   "language": "python",
   "name": "python3"
  },
  "language_info": {
   "codemirror_mode": {
    "name": "ipython",
    "version": 3
   },
   "file_extension": ".py",
   "mimetype": "text/x-python",
   "name": "python",
   "nbconvert_exporter": "python",
   "pygments_lexer": "ipython3",
   "version": "3.7.4"
  }
 },
 "nbformat": 4,
 "nbformat_minor": 2
}
