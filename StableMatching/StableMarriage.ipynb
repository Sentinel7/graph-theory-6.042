{
 "cells": [
  {
   "cell_type": "code",
   "execution_count": 435,
   "metadata": {},
   "outputs": [],
   "source": [
    "import random"
   ]
  },
  {
   "cell_type": "code",
   "execution_count": 445,
   "metadata": {},
   "outputs": [],
   "source": [
    "def printDict(d):\n",
    "    for x in d:\n",
    "        print(x, end=\":  \")\n",
    "        for y in d[x]:\n",
    "            print(y, '', end = '')\n",
    "        print()\n",
    "    print()"
   ]
  },
  {
   "cell_type": "code",
   "execution_count": 446,
   "metadata": {},
   "outputs": [
    {
     "name": "stdout",
     "output_type": "stream",
     "text": [
      "Boys\n",
      "1:  E C B D G A F \n",
      "2:  E D A B G F C \n",
      "3:  C F D A G E B \n",
      "4:  E B D F A G C \n",
      "5:  B G E F A C D \n",
      "6:  F G E C D B A \n",
      "7:  B D G C F E A \n",
      "\n",
      "Girls\n",
      "A:  6 7 3 1 4 5 2 \n",
      "B:  2 1 5 7 4 3 6 \n",
      "C:  2 3 1 6 4 7 5 \n",
      "D:  4 2 7 1 5 6 3 \n",
      "E:  5 1 4 3 6 2 7 \n",
      "F:  7 4 2 3 6 5 1 \n",
      "G:  5 3 7 4 2 6 1 \n",
      "\n"
     ]
    }
   ],
   "source": [
    "# Initialize nodes for N boys and N girls\n",
    "N = 7\n",
    "boys = list(range(1, N+1))\n",
    "girls = list(map(chr, range(ord('A'), ord('A') + N)))\n",
    "\n",
    "# Create random preference lists for each boy and girl\n",
    "b_pref = {}\n",
    "g_pref = {}\n",
    "for i in range(N):\n",
    "    b_list = girls.copy()\n",
    "    g_list = boys.copy()\n",
    "    random.shuffle(b_list)\n",
    "    random.shuffle(g_list)\n",
    "    \n",
    "    b_pref[i+1] = b_list\n",
    "    g_pref[girls[i]] = g_list\n",
    "\n",
    "print(\"Boys\")\n",
    "printDict(b_pref)\n",
    "print(\"Girls\")\n",
    "printDict(g_pref)"
   ]
  },
  {
   "cell_type": "code",
   "execution_count": 438,
   "metadata": {},
   "outputs": [],
   "source": [
    "# Checks if all the girls have at most one suitor\n",
    "def allMatched(balconies):\n",
    "    for i in balconies:\n",
    "        if (len(balconies[i]) != 1):\n",
    "            return False\n",
    "    return True"
   ]
  },
  {
   "cell_type": "code",
   "execution_count": 439,
   "metadata": {},
   "outputs": [],
   "source": [
    "# Sends all boys to their favorite girl\n",
    "def fillBalconies(balconies):\n",
    "    for b in b_pref:\n",
    "        if (b not in balconies[b_pref[b][0]]):\n",
    "            b_copy = b\n",
    "            balconies[b_pref[b][0]].append(b_copy)"
   ]
  },
  {
   "cell_type": "code",
   "execution_count": 440,
   "metadata": {},
   "outputs": [],
   "source": [
    "# Finds girl G's favorite boy from her balcony\n",
    "def findFavorite(girl, balconies):\n",
    "    for c in g_pref[girl]:\n",
    "        if (c in balconies[girl]):\n",
    "            return c"
   ]
  },
  {
   "cell_type": "code",
   "execution_count": 443,
   "metadata": {},
   "outputs": [],
   "source": [
    "# Creates a set of N balconies initially empty\n",
    "def createBalconyDict():\n",
    "    balconies = {}\n",
    "    for i in range(N):\n",
    "        balconies[girls[i]] = []\n",
    "    return balconies"
   ]
  },
  {
   "cell_type": "code",
   "execution_count": 447,
   "metadata": {},
   "outputs": [
    {
     "name": "stdout",
     "output_type": "stream",
     "text": [
      "A:  2 \n",
      "B:  5 \n",
      "C:  3 \n",
      "D:  4 \n",
      "E:  1 \n",
      "F:  6 \n",
      "G:  7 \n",
      "\n"
     ]
    }
   ],
   "source": [
    "balcony = createBalconyDict()\n",
    "\n",
    "while True:\n",
    "    # Termination condition\n",
    "    if (allMatched(balcony) == True):\n",
    "        break\n",
    "    \n",
    "    # Boys go to their favorite girls' balconies\n",
    "    fillBalconies(balcony)\n",
    "    \n",
    "    # Girls choose their favorite of the boys under their balcony, and reject the others\n",
    "    rejected = []\n",
    "    for g in balcony:\n",
    "        g_fav = findFavorite(g, balcony)\n",
    "        \n",
    "        for boy in balcony[g]:\n",
    "            if (boy != g_fav):\n",
    "                rejected.append(boy)\n",
    "        balcony[g] = list(set(balcony[g]) - set(rejected))\n",
    "    \n",
    "    # Boys who got rejected remove that girl from their list\n",
    "    for b in rejected:\n",
    "        b_pref[b].pop(0)\n",
    "    \n",
    "printDict(balcony)"
   ]
  }
 ],
 "metadata": {
  "kernelspec": {
   "display_name": "Python 3",
   "language": "python",
   "name": "python3"
  },
  "language_info": {
   "codemirror_mode": {
    "name": "ipython",
    "version": 3
   },
   "file_extension": ".py",
   "mimetype": "text/x-python",
   "name": "python",
   "nbconvert_exporter": "python",
   "pygments_lexer": "ipython3",
   "version": "3.7.4"
  }
 },
 "nbformat": 4,
 "nbformat_minor": 2
}
